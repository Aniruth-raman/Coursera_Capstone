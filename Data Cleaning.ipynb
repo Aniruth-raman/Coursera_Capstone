{
 "cells": [
  {
   "cell_type": "code",
   "execution_count": 1,
   "metadata": {},
   "outputs": [],
   "source": [
    "import pandas as pd "
   ]
  },
  {
   "cell_type": "markdown",
   "metadata": {},
   "source": [
    "## 1. Download and Explore Dataset"
   ]
  },
  {
   "cell_type": "markdown",
   "metadata": {},
   "source": [
    "In order to segment the neighborhoods and explore them, we will essentially need a dataset that contains the place names as well as the the latitude and longitude coordinates of each neighborhood. \n",
    "\n",
    "Luckily, this dataset exists for free on the web. The dataset is obtained from http://www.geonames.org/export/zip/. The in.zip file in the page gives the details for almost 154809 rows representing several places in India. This dataset is downloaded and the IN.txt file is used for this assignment."
   ]
  },
  {
   "cell_type": "markdown",
   "metadata": {},
   "source": [
    "### Load and explore the data"
   ]
  },
  {
   "cell_type": "markdown",
   "metadata": {},
   "source": [
    "Next, let's load the data."
   ]
  },
  {
   "cell_type": "code",
   "execution_count": 2,
   "metadata": {},
   "outputs": [
    {
     "output_type": "execute_result",
     "data": {
      "text/plain": [
       "       country code  postal code      place name                admin name1  \\\n",
       "0                IN       744101    Marine Jetty  Andaman & Nicobar Islands   \n",
       "1                IN       744101      Port Blair  Andaman & Nicobar Islands   \n",
       "2                IN       744101    N.S.Building  Andaman & Nicobar Islands   \n",
       "3                IN       744102           Haddo  Andaman & Nicobar Islands   \n",
       "4                IN       744102         Chatham  Andaman & Nicobar Islands   \n",
       "...             ...          ...             ...                        ...   \n",
       "154804           IN       509412      Mustipally                  Telangana   \n",
       "154805           IN       509412  Peddakarpamula                  Telangana   \n",
       "154806           IN       509412   Gantaraopally                  Telangana   \n",
       "154807           IN       509412       Ganyagula                  Telangana   \n",
       "154808           IN       509412  D.Thirumalapur                  Telangana   \n",
       "\n",
       "        admin code1    admin name2  admin code2      admin name3  admin code3  \\\n",
       "0                 1  South Andaman          NaN        Portblair          NaN   \n",
       "1                 1  South Andaman          NaN       Port Blair          NaN   \n",
       "2                 1  South Andaman          NaN        Portblair          NaN   \n",
       "3                 1  South Andaman          NaN       Port Blair          NaN   \n",
       "4                 1  South Andaman          NaN        Portblair          NaN   \n",
       "...             ...            ...          ...              ...          ...   \n",
       "154804           40  Mahabub Nagar          NaN  Peddakothapally          NaN   \n",
       "154805           40  Mahabub Nagar          NaN  Peddakothapally          NaN   \n",
       "154806           40  Mahabub Nagar          NaN  Peddakothapally          NaN   \n",
       "154807           40  Mahabub Nagar          NaN     Nagarkurnool          NaN   \n",
       "154808           40  Mahabub Nagar          NaN  Peddakothapally          NaN   \n",
       "\n",
       "        latitude  longitude  accuracy  \n",
       "0        11.6667    92.7500         3  \n",
       "1        11.6667    92.7500         4  \n",
       "2        11.6667    92.7500         3  \n",
       "3        11.6833    92.7167         4  \n",
       "4        11.7000    92.6667         3  \n",
       "...          ...        ...       ...  \n",
       "154804   16.6514    78.0760         3  \n",
       "154805   16.6514    78.0760         3  \n",
       "154806   16.6514    78.0760         3  \n",
       "154807   16.6514    78.0760         3  \n",
       "154808   16.6514    78.0760         3  \n",
       "\n",
       "[154809 rows x 12 columns]"
      ],
      "text/html": "<div>\n<style scoped>\n    .dataframe tbody tr th:only-of-type {\n        vertical-align: middle;\n    }\n\n    .dataframe tbody tr th {\n        vertical-align: top;\n    }\n\n    .dataframe thead th {\n        text-align: right;\n    }\n</style>\n<table border=\"1\" class=\"dataframe\">\n  <thead>\n    <tr style=\"text-align: right;\">\n      <th></th>\n      <th>country code</th>\n      <th>postal code</th>\n      <th>place name</th>\n      <th>admin name1</th>\n      <th>admin code1</th>\n      <th>admin name2</th>\n      <th>admin code2</th>\n      <th>admin name3</th>\n      <th>admin code3</th>\n      <th>latitude</th>\n      <th>longitude</th>\n      <th>accuracy</th>\n    </tr>\n  </thead>\n  <tbody>\n    <tr>\n      <th>0</th>\n      <td>IN</td>\n      <td>744101</td>\n      <td>Marine Jetty</td>\n      <td>Andaman &amp; Nicobar Islands</td>\n      <td>1</td>\n      <td>South Andaman</td>\n      <td>NaN</td>\n      <td>Portblair</td>\n      <td>NaN</td>\n      <td>11.6667</td>\n      <td>92.7500</td>\n      <td>3</td>\n    </tr>\n    <tr>\n      <th>1</th>\n      <td>IN</td>\n      <td>744101</td>\n      <td>Port Blair</td>\n      <td>Andaman &amp; Nicobar Islands</td>\n      <td>1</td>\n      <td>South Andaman</td>\n      <td>NaN</td>\n      <td>Port Blair</td>\n      <td>NaN</td>\n      <td>11.6667</td>\n      <td>92.7500</td>\n      <td>4</td>\n    </tr>\n    <tr>\n      <th>2</th>\n      <td>IN</td>\n      <td>744101</td>\n      <td>N.S.Building</td>\n      <td>Andaman &amp; Nicobar Islands</td>\n      <td>1</td>\n      <td>South Andaman</td>\n      <td>NaN</td>\n      <td>Portblair</td>\n      <td>NaN</td>\n      <td>11.6667</td>\n      <td>92.7500</td>\n      <td>3</td>\n    </tr>\n    <tr>\n      <th>3</th>\n      <td>IN</td>\n      <td>744102</td>\n      <td>Haddo</td>\n      <td>Andaman &amp; Nicobar Islands</td>\n      <td>1</td>\n      <td>South Andaman</td>\n      <td>NaN</td>\n      <td>Port Blair</td>\n      <td>NaN</td>\n      <td>11.6833</td>\n      <td>92.7167</td>\n      <td>4</td>\n    </tr>\n    <tr>\n      <th>4</th>\n      <td>IN</td>\n      <td>744102</td>\n      <td>Chatham</td>\n      <td>Andaman &amp; Nicobar Islands</td>\n      <td>1</td>\n      <td>South Andaman</td>\n      <td>NaN</td>\n      <td>Portblair</td>\n      <td>NaN</td>\n      <td>11.7000</td>\n      <td>92.6667</td>\n      <td>3</td>\n    </tr>\n    <tr>\n      <th>...</th>\n      <td>...</td>\n      <td>...</td>\n      <td>...</td>\n      <td>...</td>\n      <td>...</td>\n      <td>...</td>\n      <td>...</td>\n      <td>...</td>\n      <td>...</td>\n      <td>...</td>\n      <td>...</td>\n      <td>...</td>\n    </tr>\n    <tr>\n      <th>154804</th>\n      <td>IN</td>\n      <td>509412</td>\n      <td>Mustipally</td>\n      <td>Telangana</td>\n      <td>40</td>\n      <td>Mahabub Nagar</td>\n      <td>NaN</td>\n      <td>Peddakothapally</td>\n      <td>NaN</td>\n      <td>16.6514</td>\n      <td>78.0760</td>\n      <td>3</td>\n    </tr>\n    <tr>\n      <th>154805</th>\n      <td>IN</td>\n      <td>509412</td>\n      <td>Peddakarpamula</td>\n      <td>Telangana</td>\n      <td>40</td>\n      <td>Mahabub Nagar</td>\n      <td>NaN</td>\n      <td>Peddakothapally</td>\n      <td>NaN</td>\n      <td>16.6514</td>\n      <td>78.0760</td>\n      <td>3</td>\n    </tr>\n    <tr>\n      <th>154806</th>\n      <td>IN</td>\n      <td>509412</td>\n      <td>Gantaraopally</td>\n      <td>Telangana</td>\n      <td>40</td>\n      <td>Mahabub Nagar</td>\n      <td>NaN</td>\n      <td>Peddakothapally</td>\n      <td>NaN</td>\n      <td>16.6514</td>\n      <td>78.0760</td>\n      <td>3</td>\n    </tr>\n    <tr>\n      <th>154807</th>\n      <td>IN</td>\n      <td>509412</td>\n      <td>Ganyagula</td>\n      <td>Telangana</td>\n      <td>40</td>\n      <td>Mahabub Nagar</td>\n      <td>NaN</td>\n      <td>Nagarkurnool</td>\n      <td>NaN</td>\n      <td>16.6514</td>\n      <td>78.0760</td>\n      <td>3</td>\n    </tr>\n    <tr>\n      <th>154808</th>\n      <td>IN</td>\n      <td>509412</td>\n      <td>D.Thirumalapur</td>\n      <td>Telangana</td>\n      <td>40</td>\n      <td>Mahabub Nagar</td>\n      <td>NaN</td>\n      <td>Peddakothapally</td>\n      <td>NaN</td>\n      <td>16.6514</td>\n      <td>78.0760</td>\n      <td>3</td>\n    </tr>\n  </tbody>\n</table>\n<p>154809 rows × 12 columns</p>\n</div>"
     },
     "metadata": {},
     "execution_count": 2
    }
   ],
   "source": [
    "df = pd.read_csv(\"IN.txt\",sep='\\t',names=['country code','postal code','place name','admin name1','admin code1','admin name2','admin code2','admin name3','admin code3','latitude','longitude','accuracy']) \n",
    "df"
   ]
  },
  {
   "cell_type": "markdown",
   "metadata": {},
   "source": [
    "### Clean the Dataset to choose only the relevant rows and columns needed for this assignment"
   ]
  },
  {
   "cell_type": "code",
   "execution_count": 3,
   "metadata": {},
   "outputs": [],
   "source": [
    "mask = (df['admin name2'] == 'Chennai')\n",
    "df_place = df[mask]\n",
    "df_place.loc[:,('postal code')] = df_place.loc[:,('postal code')].apply(str)\n",
    "df_place.dtypes\n",
    "df_place.drop(['admin code1','admin code2','admin name3','admin code3','accuracy'], axis = 1,inplace = True)"
   ]
  },
  {
   "cell_type": "code",
   "execution_count": 4,
   "metadata": {},
   "outputs": [
    {
     "output_type": "execute_result",
     "data": {
      "text/plain": [
       "      country code postal code         place name admin name1 admin name2  \\\n",
       "82499           IN      600001     Chennai G.P.O.  Tamil Nadu     Chennai   \n",
       "82500           IN      600001             MPT AO  Tamil Nadu     Chennai   \n",
       "82501           IN      600001      Flower Bazaar  Tamil Nadu     Chennai   \n",
       "82502           IN      600001          Sowcarpet  Tamil Nadu     Chennai   \n",
       "82503           IN      600001  Mannady (Chennai)  Tamil Nadu     Chennai   \n",
       "...            ...         ...                ...         ...         ...   \n",
       "82774           IN      600113      TTTI Taramani  Tamil Nadu     Chennai   \n",
       "82775           IN      600113         Tidel Park  Tamil Nadu     Chennai   \n",
       "82783           IN      600118       Erukkancheri  Tamil Nadu     Chennai   \n",
       "82784           IN      600118           Rv Nagar  Tamil Nadu     Chennai   \n",
       "82785           IN      600118        Kodungaiyur  Tamil Nadu     Chennai   \n",
       "\n",
       "       latitude  longitude  \n",
       "82499   13.0933    80.2842  \n",
       "82500   13.0933    80.2842  \n",
       "82501   13.0933    80.2842  \n",
       "82502   13.0897    80.2803  \n",
       "82503   13.0969    80.2881  \n",
       "...         ...        ...  \n",
       "82774   13.0380    80.2301  \n",
       "82775   13.0380    80.2301  \n",
       "82783   13.1256    80.2531  \n",
       "82784   13.1281    80.2557  \n",
       "82785   13.1306    80.2583  \n",
       "\n",
       "[113 rows x 7 columns]"
      ],
      "text/html": "<div>\n<style scoped>\n    .dataframe tbody tr th:only-of-type {\n        vertical-align: middle;\n    }\n\n    .dataframe tbody tr th {\n        vertical-align: top;\n    }\n\n    .dataframe thead th {\n        text-align: right;\n    }\n</style>\n<table border=\"1\" class=\"dataframe\">\n  <thead>\n    <tr style=\"text-align: right;\">\n      <th></th>\n      <th>country code</th>\n      <th>postal code</th>\n      <th>place name</th>\n      <th>admin name1</th>\n      <th>admin name2</th>\n      <th>latitude</th>\n      <th>longitude</th>\n    </tr>\n  </thead>\n  <tbody>\n    <tr>\n      <th>82499</th>\n      <td>IN</td>\n      <td>600001</td>\n      <td>Chennai G.P.O.</td>\n      <td>Tamil Nadu</td>\n      <td>Chennai</td>\n      <td>13.0933</td>\n      <td>80.2842</td>\n    </tr>\n    <tr>\n      <th>82500</th>\n      <td>IN</td>\n      <td>600001</td>\n      <td>MPT AO</td>\n      <td>Tamil Nadu</td>\n      <td>Chennai</td>\n      <td>13.0933</td>\n      <td>80.2842</td>\n    </tr>\n    <tr>\n      <th>82501</th>\n      <td>IN</td>\n      <td>600001</td>\n      <td>Flower Bazaar</td>\n      <td>Tamil Nadu</td>\n      <td>Chennai</td>\n      <td>13.0933</td>\n      <td>80.2842</td>\n    </tr>\n    <tr>\n      <th>82502</th>\n      <td>IN</td>\n      <td>600001</td>\n      <td>Sowcarpet</td>\n      <td>Tamil Nadu</td>\n      <td>Chennai</td>\n      <td>13.0897</td>\n      <td>80.2803</td>\n    </tr>\n    <tr>\n      <th>82503</th>\n      <td>IN</td>\n      <td>600001</td>\n      <td>Mannady (Chennai)</td>\n      <td>Tamil Nadu</td>\n      <td>Chennai</td>\n      <td>13.0969</td>\n      <td>80.2881</td>\n    </tr>\n    <tr>\n      <th>...</th>\n      <td>...</td>\n      <td>...</td>\n      <td>...</td>\n      <td>...</td>\n      <td>...</td>\n      <td>...</td>\n      <td>...</td>\n    </tr>\n    <tr>\n      <th>82774</th>\n      <td>IN</td>\n      <td>600113</td>\n      <td>TTTI Taramani</td>\n      <td>Tamil Nadu</td>\n      <td>Chennai</td>\n      <td>13.0380</td>\n      <td>80.2301</td>\n    </tr>\n    <tr>\n      <th>82775</th>\n      <td>IN</td>\n      <td>600113</td>\n      <td>Tidel Park</td>\n      <td>Tamil Nadu</td>\n      <td>Chennai</td>\n      <td>13.0380</td>\n      <td>80.2301</td>\n    </tr>\n    <tr>\n      <th>82783</th>\n      <td>IN</td>\n      <td>600118</td>\n      <td>Erukkancheri</td>\n      <td>Tamil Nadu</td>\n      <td>Chennai</td>\n      <td>13.1256</td>\n      <td>80.2531</td>\n    </tr>\n    <tr>\n      <th>82784</th>\n      <td>IN</td>\n      <td>600118</td>\n      <td>Rv Nagar</td>\n      <td>Tamil Nadu</td>\n      <td>Chennai</td>\n      <td>13.1281</td>\n      <td>80.2557</td>\n    </tr>\n    <tr>\n      <th>82785</th>\n      <td>IN</td>\n      <td>600118</td>\n      <td>Kodungaiyur</td>\n      <td>Tamil Nadu</td>\n      <td>Chennai</td>\n      <td>13.1306</td>\n      <td>80.2583</td>\n    </tr>\n  </tbody>\n</table>\n<p>113 rows × 7 columns</p>\n</div>"
     },
     "metadata": {},
     "execution_count": 4
    }
   ],
   "source": [
    "df_place"
   ]
  },
  {
   "cell_type": "code",
   "execution_count": 5,
   "metadata": {},
   "outputs": [],
   "source": [
    "df_place = df_place.groupby(['latitude','longitude']).agg({'country code':lambda x: ','.join(sorted(pd.Series.unique(x))),'postal code': lambda x: ','.join(sorted(pd.Series.unique(x))),'place name':lambda x: ','.join(sorted(pd.Series.unique(x))),'admin name1':lambda x: ','.join(sorted(pd.Series.unique(x))),'admin name2':lambda x: ','.join(sorted(pd.Series.unique(x)))}).reset_index()"
   ]
  },
  {
   "cell_type": "code",
   "execution_count": 6,
   "metadata": {},
   "outputs": [
    {
     "output_type": "execute_result",
     "data": {
      "text/plain": [
       "    latitude  longitude country code                  postal code  \\\n",
       "0    12.9194    80.1697           IN                       600078   \n",
       "1    12.9675    80.2598           IN                       600041   \n",
       "2    12.9855    80.2604           IN                       600041   \n",
       "3    13.0156    80.2467           IN                       600085   \n",
       "4    13.0250    80.2575           IN                       600028   \n",
       "5    13.0269    80.2406           IN                       600035   \n",
       "6    13.0292    80.2708           IN                       600004   \n",
       "7    13.0380    80.2301           IN                       600113   \n",
       "8    13.0389    80.2258           IN                       600033   \n",
       "9    13.0433    80.2528           IN                       600018   \n",
       "10   13.0463    80.1913           IN                       600092   \n",
       "11   13.0472    80.2578           IN                       600086   \n",
       "12   13.0481    80.2014           IN                       600093   \n",
       "13   13.0481    80.2214           IN                       600024   \n",
       "14   13.0506    80.2642           IN                       600014   \n",
       "15   13.0511    80.2125           IN                       600026   \n",
       "16   13.0550    80.2767           IN                       600005   \n",
       "17   13.0572    80.2778           IN                       600005   \n",
       "18   13.0594    80.2789           IN                       600005   \n",
       "19   13.0606    80.2344           IN                       600034   \n",
       "20   13.0622    80.2409           IN  600020,600022,600023,600025   \n",
       "21   13.0645    80.2385           IN         600032,600036,600038   \n",
       "22   13.0697    80.2520           IN                600083,600084   \n",
       "23   13.0700    80.2408           IN                       600031   \n",
       "24   13.0715    80.2741           IN                600006,600009   \n",
       "25   13.0717    80.2556           IN                       600008   \n",
       "26   13.0722    80.2014           IN                       600107   \n",
       "27   13.0728    80.2042           IN         600101,600102,600104   \n",
       "28   13.0734    80.2069           IN                       600106   \n",
       "29   13.0739    80.2244           IN                       600029   \n",
       "30   13.0744    80.2714           IN                       600002   \n",
       "31   13.0797    80.2244           IN                       600030   \n",
       "32   13.0800    80.2408           IN                       600010   \n",
       "33   13.0819    80.2781           IN                       600003   \n",
       "34   13.0847    80.2675           IN                       600007   \n",
       "35   13.0897    80.2803           IN                       600001   \n",
       "36   13.0916    80.2662           IN         600012,600015,600017   \n",
       "37   13.0933    80.2842           IN                       600001   \n",
       "38   13.0969    80.2881           IN                       600001   \n",
       "39   13.1072    80.2953           IN                       600013   \n",
       "40   13.1100    80.2333           IN                       600082   \n",
       "41   13.1103    80.2425           IN                       600011   \n",
       "42   13.1111    80.2647           IN                       600039   \n",
       "43   13.1131    80.2886           IN                       600021   \n",
       "44   13.1171    80.2572           IN                       600082   \n",
       "45   13.1242    80.2811           IN                       600082   \n",
       "46   13.1256    80.2531           IN                       600118   \n",
       "47   13.1281    80.2557           IN                       600118   \n",
       "48   13.1297    80.2897           IN                       600081   \n",
       "49   13.1306    80.2583           IN                       600118   \n",
       "50   13.3718    79.9360           IN                600040,600042   \n",
       "51   13.8144    80.2791           IN                600090,600094   \n",
       "\n",
       "                                           place name admin name1 admin name2  \n",
       "0                         Kalaignar Karunanidhi Nagar  Tamil Nadu     Chennai  \n",
       "1                                       Valmiki Nagar  Tamil Nadu     Chennai  \n",
       "2                                        Tiruvanmiyur  Tamil Nadu     Chennai  \n",
       "3                                         Kotturpuram  Tamil Nadu     Chennai  \n",
       "4     Raja Annamalaipuram,Ramakrishna Nagar (Chennai)  Tamil Nadu     Chennai  \n",
       "5                                            Nandanam  Tamil Nadu     Chennai  \n",
       "6       Mandaveli,Mylapore,Vivekananda College Madras  Tamil Nadu     Chennai  \n",
       "7                            TTTI Taramani,Tidel Park  Tamil Nadu     Chennai  \n",
       "8                         Mambalam R.S.,West Mambalam  Tamil Nadu     Chennai  \n",
       "9                    Pr. Accountant General,Teynampet  Tamil Nadu     Chennai  \n",
       "10       Koyambedu Wholesale Market Com,Virugambakkam  Tamil Nadu     Chennai  \n",
       "11                              Gopalapuram (Chennai)  Tamil Nadu     Chennai  \n",
       "12                                         Saligramam  Tamil Nadu     Chennai  \n",
       "13                                        Kodambakkam  Tamil Nadu     Chennai  \n",
       "14  Lloyds Estate,Pudupakkam,Royapettah,Triplicane...  Tamil Nadu     Chennai  \n",
       "15                                         Vadapalani  Tamil Nadu     Chennai  \n",
       "16                                     Tiruvallikkeni  Tamil Nadu     Chennai  \n",
       "17                                  Madras University  Tamil Nadu     Chennai  \n",
       "18                                            Chepauk  Tamil Nadu     Chennai  \n",
       "19  Loyola College,Nungambakkam,Nungambakkam High ...  Tamil Nadu     Chennai  \n",
       "20  Adyar (Chennai),Aynavaram,Engineering College ...  Tamil Nadu     Chennai  \n",
       "21  Ekkaduthangal,Guindy Industrial Estate,Icf Col...  Tamil Nadu     Chennai  \n",
       "22    Ashoknagar (Chennai),Flowers Road,Jafferkhanpet  Tamil Nadu     Chennai  \n",
       "23                    Chetput,World University Centre  Tamil Nadu     Chennai  \n",
       "24  Fort St George,Greams Road,Old College Buildin...  Tamil Nadu     Chennai  \n",
       "25                     Egmore,Egmore ND,Ethiraj Salai  Tamil Nadu     Chennai  \n",
       "26                                          Koyambedu  Tamil Nadu     Chennai  \n",
       "27  Anna Nagar East,Anna Nagar Western Extn,High C...  Tamil Nadu     Chennai  \n",
       "28                    Arumbakkam,D G Vaishnav College  Tamil Nadu     Chennai  \n",
       "29                                        Aminjikarai  Tamil Nadu     Chennai  \n",
       "30   Anna Road,Chintadripet,Madras Electricity System  Tamil Nadu     Chennai  \n",
       "31                                       Shenoy Nagar  Tamil Nadu     Chennai  \n",
       "32  Kilpauk,Kilpauk Medical College,Medavakkam Tan...  Tamil Nadu     Chennai  \n",
       "33  Edapalayam,Madras Medical College,Park Town,Ri...  Tamil Nadu     Chennai  \n",
       "34                                             Vepery  Tamil Nadu     Chennai  \n",
       "35                                          Sowcarpet  Tamil Nadu     Chennai  \n",
       "36  Guindy North,Hindi Prachar Sabha,Perambur Barr...  Tamil Nadu     Chennai  \n",
       "37  Chennai G.P.O.,Flower Bazaar,Govt Stanley Hosp...  Tamil Nadu     Chennai  \n",
       "38                                  Mannady (Chennai)  Tamil Nadu     Chennai  \n",
       "39                                          Rayapuram  Tamil Nadu     Chennai  \n",
       "40                                             Agaram  Tamil Nadu     Chennai  \n",
       "41                    Perambur,Perambur North,Sembiam  Tamil Nadu     Chennai  \n",
       "42                     Vyasar Nagar Colony,Vyasarpadi  Tamil Nadu     Chennai  \n",
       "43                     Washermanpet,Washermanpet East  Tamil Nadu     Chennai  \n",
       "44               G K M Colony,Jawahar Nagar (Chennai)  Tamil Nadu     Chennai  \n",
       "45                                      Kumaran Nagar  Tamil Nadu     Chennai  \n",
       "46                                       Erukkancheri  Tamil Nadu     Chennai  \n",
       "47                                           Rv Nagar  Tamil Nadu     Chennai  \n",
       "48       Tondiarpet,Tondiarpet Bazaar,Tondiarpet West  Tamil Nadu     Chennai  \n",
       "49                                        Kodungaiyur  Tamil Nadu     Chennai  \n",
       "50                     Anna Nagar (Chennai),Velacheri  Tamil Nadu     Chennai  \n",
       "51              Besantnagar,Choolaimedu,Rajaji Bhavan  Tamil Nadu     Chennai  "
      ],
      "text/html": "<div>\n<style scoped>\n    .dataframe tbody tr th:only-of-type {\n        vertical-align: middle;\n    }\n\n    .dataframe tbody tr th {\n        vertical-align: top;\n    }\n\n    .dataframe thead th {\n        text-align: right;\n    }\n</style>\n<table border=\"1\" class=\"dataframe\">\n  <thead>\n    <tr style=\"text-align: right;\">\n      <th></th>\n      <th>latitude</th>\n      <th>longitude</th>\n      <th>country code</th>\n      <th>postal code</th>\n      <th>place name</th>\n      <th>admin name1</th>\n      <th>admin name2</th>\n    </tr>\n  </thead>\n  <tbody>\n    <tr>\n      <th>0</th>\n      <td>12.9194</td>\n      <td>80.1697</td>\n      <td>IN</td>\n      <td>600078</td>\n      <td>Kalaignar Karunanidhi Nagar</td>\n      <td>Tamil Nadu</td>\n      <td>Chennai</td>\n    </tr>\n    <tr>\n      <th>1</th>\n      <td>12.9675</td>\n      <td>80.2598</td>\n      <td>IN</td>\n      <td>600041</td>\n      <td>Valmiki Nagar</td>\n      <td>Tamil Nadu</td>\n      <td>Chennai</td>\n    </tr>\n    <tr>\n      <th>2</th>\n      <td>12.9855</td>\n      <td>80.2604</td>\n      <td>IN</td>\n      <td>600041</td>\n      <td>Tiruvanmiyur</td>\n      <td>Tamil Nadu</td>\n      <td>Chennai</td>\n    </tr>\n    <tr>\n      <th>3</th>\n      <td>13.0156</td>\n      <td>80.2467</td>\n      <td>IN</td>\n      <td>600085</td>\n      <td>Kotturpuram</td>\n      <td>Tamil Nadu</td>\n      <td>Chennai</td>\n    </tr>\n    <tr>\n      <th>4</th>\n      <td>13.0250</td>\n      <td>80.2575</td>\n      <td>IN</td>\n      <td>600028</td>\n      <td>Raja Annamalaipuram,Ramakrishna Nagar (Chennai)</td>\n      <td>Tamil Nadu</td>\n      <td>Chennai</td>\n    </tr>\n    <tr>\n      <th>5</th>\n      <td>13.0269</td>\n      <td>80.2406</td>\n      <td>IN</td>\n      <td>600035</td>\n      <td>Nandanam</td>\n      <td>Tamil Nadu</td>\n      <td>Chennai</td>\n    </tr>\n    <tr>\n      <th>6</th>\n      <td>13.0292</td>\n      <td>80.2708</td>\n      <td>IN</td>\n      <td>600004</td>\n      <td>Mandaveli,Mylapore,Vivekananda College Madras</td>\n      <td>Tamil Nadu</td>\n      <td>Chennai</td>\n    </tr>\n    <tr>\n      <th>7</th>\n      <td>13.0380</td>\n      <td>80.2301</td>\n      <td>IN</td>\n      <td>600113</td>\n      <td>TTTI Taramani,Tidel Park</td>\n      <td>Tamil Nadu</td>\n      <td>Chennai</td>\n    </tr>\n    <tr>\n      <th>8</th>\n      <td>13.0389</td>\n      <td>80.2258</td>\n      <td>IN</td>\n      <td>600033</td>\n      <td>Mambalam R.S.,West Mambalam</td>\n      <td>Tamil Nadu</td>\n      <td>Chennai</td>\n    </tr>\n    <tr>\n      <th>9</th>\n      <td>13.0433</td>\n      <td>80.2528</td>\n      <td>IN</td>\n      <td>600018</td>\n      <td>Pr. Accountant General,Teynampet</td>\n      <td>Tamil Nadu</td>\n      <td>Chennai</td>\n    </tr>\n    <tr>\n      <th>10</th>\n      <td>13.0463</td>\n      <td>80.1913</td>\n      <td>IN</td>\n      <td>600092</td>\n      <td>Koyambedu Wholesale Market Com,Virugambakkam</td>\n      <td>Tamil Nadu</td>\n      <td>Chennai</td>\n    </tr>\n    <tr>\n      <th>11</th>\n      <td>13.0472</td>\n      <td>80.2578</td>\n      <td>IN</td>\n      <td>600086</td>\n      <td>Gopalapuram (Chennai)</td>\n      <td>Tamil Nadu</td>\n      <td>Chennai</td>\n    </tr>\n    <tr>\n      <th>12</th>\n      <td>13.0481</td>\n      <td>80.2014</td>\n      <td>IN</td>\n      <td>600093</td>\n      <td>Saligramam</td>\n      <td>Tamil Nadu</td>\n      <td>Chennai</td>\n    </tr>\n    <tr>\n      <th>13</th>\n      <td>13.0481</td>\n      <td>80.2214</td>\n      <td>IN</td>\n      <td>600024</td>\n      <td>Kodambakkam</td>\n      <td>Tamil Nadu</td>\n      <td>Chennai</td>\n    </tr>\n    <tr>\n      <th>14</th>\n      <td>13.0506</td>\n      <td>80.2642</td>\n      <td>IN</td>\n      <td>600014</td>\n      <td>Lloyds Estate,Pudupakkam,Royapettah,Triplicane...</td>\n      <td>Tamil Nadu</td>\n      <td>Chennai</td>\n    </tr>\n    <tr>\n      <th>15</th>\n      <td>13.0511</td>\n      <td>80.2125</td>\n      <td>IN</td>\n      <td>600026</td>\n      <td>Vadapalani</td>\n      <td>Tamil Nadu</td>\n      <td>Chennai</td>\n    </tr>\n    <tr>\n      <th>16</th>\n      <td>13.0550</td>\n      <td>80.2767</td>\n      <td>IN</td>\n      <td>600005</td>\n      <td>Tiruvallikkeni</td>\n      <td>Tamil Nadu</td>\n      <td>Chennai</td>\n    </tr>\n    <tr>\n      <th>17</th>\n      <td>13.0572</td>\n      <td>80.2778</td>\n      <td>IN</td>\n      <td>600005</td>\n      <td>Madras University</td>\n      <td>Tamil Nadu</td>\n      <td>Chennai</td>\n    </tr>\n    <tr>\n      <th>18</th>\n      <td>13.0594</td>\n      <td>80.2789</td>\n      <td>IN</td>\n      <td>600005</td>\n      <td>Chepauk</td>\n      <td>Tamil Nadu</td>\n      <td>Chennai</td>\n    </tr>\n    <tr>\n      <th>19</th>\n      <td>13.0606</td>\n      <td>80.2344</td>\n      <td>IN</td>\n      <td>600034</td>\n      <td>Loyola College,Nungambakkam,Nungambakkam High ...</td>\n      <td>Tamil Nadu</td>\n      <td>Chennai</td>\n    </tr>\n    <tr>\n      <th>20</th>\n      <td>13.0622</td>\n      <td>80.2409</td>\n      <td>IN</td>\n      <td>600020,600022,600023,600025</td>\n      <td>Adyar (Chennai),Aynavaram,Engineering College ...</td>\n      <td>Tamil Nadu</td>\n      <td>Chennai</td>\n    </tr>\n    <tr>\n      <th>21</th>\n      <td>13.0645</td>\n      <td>80.2385</td>\n      <td>IN</td>\n      <td>600032,600036,600038</td>\n      <td>Ekkaduthangal,Guindy Industrial Estate,Icf Col...</td>\n      <td>Tamil Nadu</td>\n      <td>Chennai</td>\n    </tr>\n    <tr>\n      <th>22</th>\n      <td>13.0697</td>\n      <td>80.2520</td>\n      <td>IN</td>\n      <td>600083,600084</td>\n      <td>Ashoknagar (Chennai),Flowers Road,Jafferkhanpet</td>\n      <td>Tamil Nadu</td>\n      <td>Chennai</td>\n    </tr>\n    <tr>\n      <th>23</th>\n      <td>13.0700</td>\n      <td>80.2408</td>\n      <td>IN</td>\n      <td>600031</td>\n      <td>Chetput,World University Centre</td>\n      <td>Tamil Nadu</td>\n      <td>Chennai</td>\n    </tr>\n    <tr>\n      <th>24</th>\n      <td>13.0715</td>\n      <td>80.2741</td>\n      <td>IN</td>\n      <td>600006,600009</td>\n      <td>Fort St George,Greams Road,Old College Buildin...</td>\n      <td>Tamil Nadu</td>\n      <td>Chennai</td>\n    </tr>\n    <tr>\n      <th>25</th>\n      <td>13.0717</td>\n      <td>80.2556</td>\n      <td>IN</td>\n      <td>600008</td>\n      <td>Egmore,Egmore ND,Ethiraj Salai</td>\n      <td>Tamil Nadu</td>\n      <td>Chennai</td>\n    </tr>\n    <tr>\n      <th>26</th>\n      <td>13.0722</td>\n      <td>80.2014</td>\n      <td>IN</td>\n      <td>600107</td>\n      <td>Koyambedu</td>\n      <td>Tamil Nadu</td>\n      <td>Chennai</td>\n    </tr>\n    <tr>\n      <th>27</th>\n      <td>13.0728</td>\n      <td>80.2042</td>\n      <td>IN</td>\n      <td>600101,600102,600104</td>\n      <td>Anna Nagar East,Anna Nagar Western Extn,High C...</td>\n      <td>Tamil Nadu</td>\n      <td>Chennai</td>\n    </tr>\n    <tr>\n      <th>28</th>\n      <td>13.0734</td>\n      <td>80.2069</td>\n      <td>IN</td>\n      <td>600106</td>\n      <td>Arumbakkam,D G Vaishnav College</td>\n      <td>Tamil Nadu</td>\n      <td>Chennai</td>\n    </tr>\n    <tr>\n      <th>29</th>\n      <td>13.0739</td>\n      <td>80.2244</td>\n      <td>IN</td>\n      <td>600029</td>\n      <td>Aminjikarai</td>\n      <td>Tamil Nadu</td>\n      <td>Chennai</td>\n    </tr>\n    <tr>\n      <th>30</th>\n      <td>13.0744</td>\n      <td>80.2714</td>\n      <td>IN</td>\n      <td>600002</td>\n      <td>Anna Road,Chintadripet,Madras Electricity System</td>\n      <td>Tamil Nadu</td>\n      <td>Chennai</td>\n    </tr>\n    <tr>\n      <th>31</th>\n      <td>13.0797</td>\n      <td>80.2244</td>\n      <td>IN</td>\n      <td>600030</td>\n      <td>Shenoy Nagar</td>\n      <td>Tamil Nadu</td>\n      <td>Chennai</td>\n    </tr>\n    <tr>\n      <th>32</th>\n      <td>13.0800</td>\n      <td>80.2408</td>\n      <td>IN</td>\n      <td>600010</td>\n      <td>Kilpauk,Kilpauk Medical College,Medavakkam Tan...</td>\n      <td>Tamil Nadu</td>\n      <td>Chennai</td>\n    </tr>\n    <tr>\n      <th>33</th>\n      <td>13.0819</td>\n      <td>80.2781</td>\n      <td>IN</td>\n      <td>600003</td>\n      <td>Edapalayam,Madras Medical College,Park Town,Ri...</td>\n      <td>Tamil Nadu</td>\n      <td>Chennai</td>\n    </tr>\n    <tr>\n      <th>34</th>\n      <td>13.0847</td>\n      <td>80.2675</td>\n      <td>IN</td>\n      <td>600007</td>\n      <td>Vepery</td>\n      <td>Tamil Nadu</td>\n      <td>Chennai</td>\n    </tr>\n    <tr>\n      <th>35</th>\n      <td>13.0897</td>\n      <td>80.2803</td>\n      <td>IN</td>\n      <td>600001</td>\n      <td>Sowcarpet</td>\n      <td>Tamil Nadu</td>\n      <td>Chennai</td>\n    </tr>\n    <tr>\n      <th>36</th>\n      <td>13.0916</td>\n      <td>80.2662</td>\n      <td>IN</td>\n      <td>600012,600015,600017</td>\n      <td>Guindy North,Hindi Prachar Sabha,Perambur Barr...</td>\n      <td>Tamil Nadu</td>\n      <td>Chennai</td>\n    </tr>\n    <tr>\n      <th>37</th>\n      <td>13.0933</td>\n      <td>80.2842</td>\n      <td>IN</td>\n      <td>600001</td>\n      <td>Chennai G.P.O.,Flower Bazaar,Govt Stanley Hosp...</td>\n      <td>Tamil Nadu</td>\n      <td>Chennai</td>\n    </tr>\n    <tr>\n      <th>38</th>\n      <td>13.0969</td>\n      <td>80.2881</td>\n      <td>IN</td>\n      <td>600001</td>\n      <td>Mannady (Chennai)</td>\n      <td>Tamil Nadu</td>\n      <td>Chennai</td>\n    </tr>\n    <tr>\n      <th>39</th>\n      <td>13.1072</td>\n      <td>80.2953</td>\n      <td>IN</td>\n      <td>600013</td>\n      <td>Rayapuram</td>\n      <td>Tamil Nadu</td>\n      <td>Chennai</td>\n    </tr>\n    <tr>\n      <th>40</th>\n      <td>13.1100</td>\n      <td>80.2333</td>\n      <td>IN</td>\n      <td>600082</td>\n      <td>Agaram</td>\n      <td>Tamil Nadu</td>\n      <td>Chennai</td>\n    </tr>\n    <tr>\n      <th>41</th>\n      <td>13.1103</td>\n      <td>80.2425</td>\n      <td>IN</td>\n      <td>600011</td>\n      <td>Perambur,Perambur North,Sembiam</td>\n      <td>Tamil Nadu</td>\n      <td>Chennai</td>\n    </tr>\n    <tr>\n      <th>42</th>\n      <td>13.1111</td>\n      <td>80.2647</td>\n      <td>IN</td>\n      <td>600039</td>\n      <td>Vyasar Nagar Colony,Vyasarpadi</td>\n      <td>Tamil Nadu</td>\n      <td>Chennai</td>\n    </tr>\n    <tr>\n      <th>43</th>\n      <td>13.1131</td>\n      <td>80.2886</td>\n      <td>IN</td>\n      <td>600021</td>\n      <td>Washermanpet,Washermanpet East</td>\n      <td>Tamil Nadu</td>\n      <td>Chennai</td>\n    </tr>\n    <tr>\n      <th>44</th>\n      <td>13.1171</td>\n      <td>80.2572</td>\n      <td>IN</td>\n      <td>600082</td>\n      <td>G K M Colony,Jawahar Nagar (Chennai)</td>\n      <td>Tamil Nadu</td>\n      <td>Chennai</td>\n    </tr>\n    <tr>\n      <th>45</th>\n      <td>13.1242</td>\n      <td>80.2811</td>\n      <td>IN</td>\n      <td>600082</td>\n      <td>Kumaran Nagar</td>\n      <td>Tamil Nadu</td>\n      <td>Chennai</td>\n    </tr>\n    <tr>\n      <th>46</th>\n      <td>13.1256</td>\n      <td>80.2531</td>\n      <td>IN</td>\n      <td>600118</td>\n      <td>Erukkancheri</td>\n      <td>Tamil Nadu</td>\n      <td>Chennai</td>\n    </tr>\n    <tr>\n      <th>47</th>\n      <td>13.1281</td>\n      <td>80.2557</td>\n      <td>IN</td>\n      <td>600118</td>\n      <td>Rv Nagar</td>\n      <td>Tamil Nadu</td>\n      <td>Chennai</td>\n    </tr>\n    <tr>\n      <th>48</th>\n      <td>13.1297</td>\n      <td>80.2897</td>\n      <td>IN</td>\n      <td>600081</td>\n      <td>Tondiarpet,Tondiarpet Bazaar,Tondiarpet West</td>\n      <td>Tamil Nadu</td>\n      <td>Chennai</td>\n    </tr>\n    <tr>\n      <th>49</th>\n      <td>13.1306</td>\n      <td>80.2583</td>\n      <td>IN</td>\n      <td>600118</td>\n      <td>Kodungaiyur</td>\n      <td>Tamil Nadu</td>\n      <td>Chennai</td>\n    </tr>\n    <tr>\n      <th>50</th>\n      <td>13.3718</td>\n      <td>79.9360</td>\n      <td>IN</td>\n      <td>600040,600042</td>\n      <td>Anna Nagar (Chennai),Velacheri</td>\n      <td>Tamil Nadu</td>\n      <td>Chennai</td>\n    </tr>\n    <tr>\n      <th>51</th>\n      <td>13.8144</td>\n      <td>80.2791</td>\n      <td>IN</td>\n      <td>600090,600094</td>\n      <td>Besantnagar,Choolaimedu,Rajaji Bhavan</td>\n      <td>Tamil Nadu</td>\n      <td>Chennai</td>\n    </tr>\n  </tbody>\n</table>\n</div>"
     },
     "metadata": {},
     "execution_count": 6
    }
   ],
   "source": [
    "df_place"
   ]
  },
  {
   "cell_type": "code",
   "execution_count": 7,
   "metadata": {},
   "outputs": [],
   "source": [
    "df_place.to_csv('Chennai.csv')"
   ]
  }
 ],
 "metadata": {
  "kernelspec": {
   "display_name": "Python 3",
   "language": "python",
   "name": "python3"
  },
  "language_info": {
   "codemirror_mode": {
    "name": "ipython",
    "version": 3
   },
   "file_extension": ".py",
   "mimetype": "text/x-python",
   "name": "python",
   "nbconvert_exporter": "python",
   "pygments_lexer": "ipython3",
   "version": "3.8.5-final"
  }
 },
 "nbformat": 4,
 "nbformat_minor": 4
}